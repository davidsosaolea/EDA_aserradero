{
 "cells": [
  {
   "cell_type": "code",
   "execution_count": 11,
   "metadata": {},
   "outputs": [],
   "source": [
    "import numpy as np\n",
    "import pandas as pd\n",
    "import os\n",
    "import matplotlib.pyplot as plt\n",
    "import seaborn as sns\n",
    "import plotly.express as px"
   ]
  },
  {
   "cell_type": "code",
   "execution_count": 39,
   "metadata": {},
   "outputs": [
    {
     "data": {
      "text/html": [
       "<div>\n",
       "<style scoped>\n",
       "    .dataframe tbody tr th:only-of-type {\n",
       "        vertical-align: middle;\n",
       "    }\n",
       "\n",
       "    .dataframe tbody tr th {\n",
       "        vertical-align: top;\n",
       "    }\n",
       "\n",
       "    .dataframe thead th {\n",
       "        text-align: right;\n",
       "    }\n",
       "</style>\n",
       "<table border=\"1\" class=\"dataframe\">\n",
       "  <thead>\n",
       "    <tr style=\"text-align: right;\">\n",
       "      <th></th>\n",
       "      <th>pies</th>\n",
       "      <th>precio_venta</th>\n",
       "      <th>precio_costo</th>\n",
       "      <th>fecha</th>\n",
       "      <th>numero_doc</th>\n",
       "      <th>estado</th>\n",
       "      <th>motivo</th>\n",
       "      <th>punto</th>\n",
       "      <th>total_doc</th>\n",
       "      <th>descripcion_larga</th>\n",
       "    </tr>\n",
       "  </thead>\n",
       "  <tbody>\n",
       "    <tr>\n",
       "      <th>0</th>\n",
       "      <td>5.3</td>\n",
       "      <td>1.6</td>\n",
       "      <td>1.2</td>\n",
       "      <td>2011-07-14 00:00:00.000</td>\n",
       "      <td>1</td>\n",
       "      <td>1</td>\n",
       "      <td>V</td>\n",
       "      <td>1</td>\n",
       "      <td>40.2</td>\n",
       "      <td>MADERA CATAHUA</td>\n",
       "    </tr>\n",
       "    <tr>\n",
       "      <th>1</th>\n",
       "      <td>7.0</td>\n",
       "      <td>1.6</td>\n",
       "      <td>1.2</td>\n",
       "      <td>2011-07-14 00:00:00.000</td>\n",
       "      <td>1</td>\n",
       "      <td>1</td>\n",
       "      <td>V</td>\n",
       "      <td>1</td>\n",
       "      <td>40.2</td>\n",
       "      <td>MADERA CATAHUA</td>\n",
       "    </tr>\n",
       "    <tr>\n",
       "      <th>2</th>\n",
       "      <td>6.0</td>\n",
       "      <td>1.6</td>\n",
       "      <td>1.2</td>\n",
       "      <td>2011-07-14 00:00:00.000</td>\n",
       "      <td>1</td>\n",
       "      <td>1</td>\n",
       "      <td>V</td>\n",
       "      <td>1</td>\n",
       "      <td>40.2</td>\n",
       "      <td>MADERA CATAHUA</td>\n",
       "    </tr>\n",
       "    <tr>\n",
       "      <th>3</th>\n",
       "      <td>5.3</td>\n",
       "      <td>1.6</td>\n",
       "      <td>1.2</td>\n",
       "      <td>2011-07-14 00:00:00.000</td>\n",
       "      <td>1</td>\n",
       "      <td>1</td>\n",
       "      <td>V</td>\n",
       "      <td>1</td>\n",
       "      <td>40.2</td>\n",
       "      <td>MADERA CATAHUA</td>\n",
       "    </tr>\n",
       "    <tr>\n",
       "      <th>4</th>\n",
       "      <td>1.5</td>\n",
       "      <td>1.6</td>\n",
       "      <td>1.2</td>\n",
       "      <td>2011-07-14 00:00:00.000</td>\n",
       "      <td>1</td>\n",
       "      <td>1</td>\n",
       "      <td>V</td>\n",
       "      <td>1</td>\n",
       "      <td>40.2</td>\n",
       "      <td>MADERA CATAHUA</td>\n",
       "    </tr>\n",
       "  </tbody>\n",
       "</table>\n",
       "</div>"
      ],
      "text/plain": [
       "   pies  precio_venta  precio_costo                    fecha  numero_doc  \\\n",
       "0   5.3           1.6           1.2  2011-07-14 00:00:00.000           1   \n",
       "1   7.0           1.6           1.2  2011-07-14 00:00:00.000           1   \n",
       "2   6.0           1.6           1.2  2011-07-14 00:00:00.000           1   \n",
       "3   5.3           1.6           1.2  2011-07-14 00:00:00.000           1   \n",
       "4   1.5           1.6           1.2  2011-07-14 00:00:00.000           1   \n",
       "\n",
       "   estado motivo  punto  total_doc descripcion_larga  \n",
       "0       1      V      1       40.2   MADERA CATAHUA   \n",
       "1       1      V      1       40.2   MADERA CATAHUA   \n",
       "2       1      V      1       40.2   MADERA CATAHUA   \n",
       "3       1      V      1       40.2   MADERA CATAHUA   \n",
       "4       1      V      1       40.2   MADERA CATAHUA   "
      ]
     },
     "execution_count": 39,
     "metadata": {},
     "output_type": "execute_result"
    }
   ],
   "source": [
    "df1 = pd.read_csv('data/ventas.csv', delimiter=';')\n",
    "df1.head()"
   ]
  },
  {
   "cell_type": "code",
   "execution_count": 40,
   "metadata": {},
   "outputs": [
    {
     "data": {
      "text/html": [
       "<div>\n",
       "<style scoped>\n",
       "    .dataframe tbody tr th:only-of-type {\n",
       "        vertical-align: middle;\n",
       "    }\n",
       "\n",
       "    .dataframe tbody tr th {\n",
       "        vertical-align: top;\n",
       "    }\n",
       "\n",
       "    .dataframe thead th {\n",
       "        text-align: right;\n",
       "    }\n",
       "</style>\n",
       "<table border=\"1\" class=\"dataframe\">\n",
       "  <thead>\n",
       "    <tr style=\"text-align: right;\">\n",
       "      <th></th>\n",
       "      <th>pies</th>\n",
       "      <th>precio_venta</th>\n",
       "      <th>precio_costo</th>\n",
       "      <th>fecha</th>\n",
       "      <th>numero_doc</th>\n",
       "      <th>estado</th>\n",
       "      <th>motivo</th>\n",
       "      <th>punto</th>\n",
       "      <th>total_doc</th>\n",
       "      <th>descripcion_larga</th>\n",
       "      <th>importe</th>\n",
       "    </tr>\n",
       "  </thead>\n",
       "  <tbody>\n",
       "    <tr>\n",
       "      <th>0</th>\n",
       "      <td>5.3</td>\n",
       "      <td>1.6</td>\n",
       "      <td>1.2</td>\n",
       "      <td>2011-07-14 00:00:00.000</td>\n",
       "      <td>1</td>\n",
       "      <td>1</td>\n",
       "      <td>V</td>\n",
       "      <td>1</td>\n",
       "      <td>40.2</td>\n",
       "      <td>MADERA CATAHUA</td>\n",
       "      <td>8.48</td>\n",
       "    </tr>\n",
       "    <tr>\n",
       "      <th>1</th>\n",
       "      <td>7.0</td>\n",
       "      <td>1.6</td>\n",
       "      <td>1.2</td>\n",
       "      <td>2011-07-14 00:00:00.000</td>\n",
       "      <td>1</td>\n",
       "      <td>1</td>\n",
       "      <td>V</td>\n",
       "      <td>1</td>\n",
       "      <td>40.2</td>\n",
       "      <td>MADERA CATAHUA</td>\n",
       "      <td>11.20</td>\n",
       "    </tr>\n",
       "    <tr>\n",
       "      <th>2</th>\n",
       "      <td>6.0</td>\n",
       "      <td>1.6</td>\n",
       "      <td>1.2</td>\n",
       "      <td>2011-07-14 00:00:00.000</td>\n",
       "      <td>1</td>\n",
       "      <td>1</td>\n",
       "      <td>V</td>\n",
       "      <td>1</td>\n",
       "      <td>40.2</td>\n",
       "      <td>MADERA CATAHUA</td>\n",
       "      <td>9.60</td>\n",
       "    </tr>\n",
       "    <tr>\n",
       "      <th>3</th>\n",
       "      <td>5.3</td>\n",
       "      <td>1.6</td>\n",
       "      <td>1.2</td>\n",
       "      <td>2011-07-14 00:00:00.000</td>\n",
       "      <td>1</td>\n",
       "      <td>1</td>\n",
       "      <td>V</td>\n",
       "      <td>1</td>\n",
       "      <td>40.2</td>\n",
       "      <td>MADERA CATAHUA</td>\n",
       "      <td>8.48</td>\n",
       "    </tr>\n",
       "    <tr>\n",
       "      <th>4</th>\n",
       "      <td>1.5</td>\n",
       "      <td>1.6</td>\n",
       "      <td>1.2</td>\n",
       "      <td>2011-07-14 00:00:00.000</td>\n",
       "      <td>1</td>\n",
       "      <td>1</td>\n",
       "      <td>V</td>\n",
       "      <td>1</td>\n",
       "      <td>40.2</td>\n",
       "      <td>MADERA CATAHUA</td>\n",
       "      <td>2.40</td>\n",
       "    </tr>\n",
       "  </tbody>\n",
       "</table>\n",
       "</div>"
      ],
      "text/plain": [
       "   pies  precio_venta  precio_costo                    fecha  numero_doc  \\\n",
       "0   5.3           1.6           1.2  2011-07-14 00:00:00.000           1   \n",
       "1   7.0           1.6           1.2  2011-07-14 00:00:00.000           1   \n",
       "2   6.0           1.6           1.2  2011-07-14 00:00:00.000           1   \n",
       "3   5.3           1.6           1.2  2011-07-14 00:00:00.000           1   \n",
       "4   1.5           1.6           1.2  2011-07-14 00:00:00.000           1   \n",
       "\n",
       "   estado motivo  punto  total_doc descripcion_larga  importe  \n",
       "0       1      V      1       40.2   MADERA CATAHUA      8.48  \n",
       "1       1      V      1       40.2   MADERA CATAHUA     11.20  \n",
       "2       1      V      1       40.2   MADERA CATAHUA      9.60  \n",
       "3       1      V      1       40.2   MADERA CATAHUA      8.48  \n",
       "4       1      V      1       40.2   MADERA CATAHUA      2.40  "
      ]
     },
     "execution_count": 40,
     "metadata": {},
     "output_type": "execute_result"
    }
   ],
   "source": [
    "df1['importe'] = df1['pies'] * df1['precio_venta']\n",
    "df1.head()"
   ]
  },
  {
   "cell_type": "code",
   "execution_count": 41,
   "metadata": {},
   "outputs": [
    {
     "name": "stdout",
     "output_type": "stream",
     "text": [
      "pies                 float64\n",
      "precio_venta         float64\n",
      "precio_costo         float64\n",
      "fecha                 object\n",
      "numero_doc             int64\n",
      "estado                 int64\n",
      "motivo                object\n",
      "punto                  int64\n",
      "total_doc            float64\n",
      "descripcion_larga     object\n",
      "importe              float64\n",
      "dtype: object\n"
     ]
    }
   ],
   "source": [
    "# Ver el formato de cada columna\n",
    "print(df1.dtypes)"
   ]
  },
  {
   "cell_type": "code",
   "execution_count": 42,
   "metadata": {},
   "outputs": [],
   "source": [
    "# Dar formato de fecha a la comulna de fecha\n",
    "df1['fecha'] = pd.to_datetime(df1['fecha'])"
   ]
  },
  {
   "cell_type": "code",
   "execution_count": 43,
   "metadata": {},
   "outputs": [
    {
     "name": "stdout",
     "output_type": "stream",
     "text": [
      "Cantidad de valores NaN por columnas:\n",
      "pies                  0\n",
      "precio_venta          0\n",
      "precio_costo          1\n",
      "fecha                 0\n",
      "numero_doc            0\n",
      "estado                0\n",
      "motivo                0\n",
      "punto                 0\n",
      "total_doc             0\n",
      "descripcion_larga    27\n",
      "importe               0\n",
      "dtype: int64\n"
     ]
    }
   ],
   "source": [
    "# Ver valores NaN\n",
    "cantidad_nan_por_columnas = df1.isna().sum(axis=0)\n",
    "\n",
    "print(\"Cantidad de valores NaN por columnas:\")\n",
    "print(cantidad_nan_por_columnas)\n"
   ]
  },
  {
   "cell_type": "code",
   "execution_count": 44,
   "metadata": {},
   "outputs": [],
   "source": [
    "df1 = df1.dropna()"
   ]
  },
  {
   "cell_type": "code",
   "execution_count": 45,
   "metadata": {},
   "outputs": [],
   "source": [
    "# Verificar si la carpeta existe, si no, crearla :) \n",
    "carpeta = \"visualisaciones\"\n",
    "if not os.path.exists(carpeta):\n",
    "    os.makedirs(carpeta)\n",
    "\n",
    "# Agrupar el importe por fecha $$\n",
    "df_suma_importe1 = df1.groupby(\"fecha\")[\"importe\"].sum().reset_index()\n",
    "\n",
    "# Gráfico de líneas\n",
    "fig2 = px.line(df_suma_importe1, x=\"fecha\", y=\"importe\", title=\"Evolución de las ventas\")\n",
    "\n",
    "# Guardar el gráfico en un archivo HTML en la carpeta especificada \n",
    "ruta_grafico = os.path.join(carpeta, \"grafico_importe1.html\")\n",
    "fig2.write_html(ruta_grafico)"
   ]
  },
  {
   "cell_type": "code",
   "execution_count": 46,
   "metadata": {},
   "outputs": [
    {
     "data": {
      "image/png": "[encoded data removed]",
      "text/plain": [
       "<Figure size 640x480 with 1 Axes>"
      ]
     },
     "metadata": {},
     "output_type": "display_data"
    }
   ],
   "source": [
    "# Igual que antes XD \n",
    "# Crea el gráfico de líneas\n",
    "plt.plot(df_suma_importe1['fecha'], df_suma_importe1['importe'])\n",
    "plt.xlabel('Fecha')\n",
    "plt.ylabel('Importe')\n",
    "plt.title('Evolución del las ventas')\n",
    "plt.xticks(rotation=45)\n",
    "plt.show()"
   ]
  },
  {
   "cell_type": "code",
   "execution_count": 47,
   "metadata": {},
   "outputs": [],
   "source": [
    "# (son valores de prueba que no se borraron) ¿como lo se?  sera nuestro secreto ;)\n",
    "valores_a_eliminar = [1, 3182, 3246, 2655, 2658, 2702, 2701, 2666]\n",
    "df1 = df1[~df1['numero_doc'].isin(valores_a_eliminar)]\n"
   ]
  },
  {
   "cell_type": "code",
   "execution_count": 52,
   "metadata": {},
   "outputs": [
    {
     "data": {
      "text/html": [
       "<div>\n",
       "<style scoped>\n",
       "    .dataframe tbody tr th:only-of-type {\n",
       "        vertical-align: middle;\n",
       "    }\n",
       "\n",
       "    .dataframe tbody tr th {\n",
       "        vertical-align: top;\n",
       "    }\n",
       "\n",
       "    .dataframe thead th {\n",
       "        text-align: right;\n",
       "    }\n",
       "</style>\n",
       "<table border=\"1\" class=\"dataframe\">\n",
       "  <thead>\n",
       "    <tr style=\"text-align: right;\">\n",
       "      <th></th>\n",
       "      <th>fecha</th>\n",
       "      <th>importe</th>\n",
       "    </tr>\n",
       "  </thead>\n",
       "  <tbody>\n",
       "    <tr>\n",
       "      <th>0</th>\n",
       "      <td>2008-01-01</td>\n",
       "      <td>154.48</td>\n",
       "    </tr>\n",
       "    <tr>\n",
       "      <th>1</th>\n",
       "      <td>2011-07-12</td>\n",
       "      <td>11.40</td>\n",
       "    </tr>\n",
       "    <tr>\n",
       "      <th>2</th>\n",
       "      <td>2011-07-13</td>\n",
       "      <td>653.78</td>\n",
       "    </tr>\n",
       "    <tr>\n",
       "      <th>3</th>\n",
       "      <td>2011-07-14</td>\n",
       "      <td>96475.00</td>\n",
       "    </tr>\n",
       "    <tr>\n",
       "      <th>4</th>\n",
       "      <td>2011-07-15</td>\n",
       "      <td>280.31</td>\n",
       "    </tr>\n",
       "  </tbody>\n",
       "</table>\n",
       "</div>"
      ],
      "text/plain": [
       "       fecha   importe\n",
       "0 2008-01-01    154.48\n",
       "1 2011-07-12     11.40\n",
       "2 2011-07-13    653.78\n",
       "3 2011-07-14  96475.00\n",
       "4 2011-07-15    280.31"
      ]
     },
     "execution_count": 52,
     "metadata": {},
     "output_type": "execute_result"
    }
   ],
   "source": [
    "# Ventas del 2008???   \n",
    "df_suma_importe1.head()"
   ]
  },
  {
   "cell_type": "code",
   "execution_count": 55,
   "metadata": {},
   "outputs": [
    {
     "data": {
      "text/html": [
       "<div>\n",
       "<style scoped>\n",
       "    .dataframe tbody tr th:only-of-type {\n",
       "        vertical-align: middle;\n",
       "    }\n",
       "\n",
       "    .dataframe tbody tr th {\n",
       "        vertical-align: top;\n",
       "    }\n",
       "\n",
       "    .dataframe thead th {\n",
       "        text-align: right;\n",
       "    }\n",
       "</style>\n",
       "<table border=\"1\" class=\"dataframe\">\n",
       "  <thead>\n",
       "    <tr style=\"text-align: right;\">\n",
       "      <th></th>\n",
       "      <th>pies</th>\n",
       "      <th>precio_venta</th>\n",
       "      <th>precio_costo</th>\n",
       "      <th>fecha</th>\n",
       "      <th>numero_doc</th>\n",
       "      <th>estado</th>\n",
       "      <th>motivo</th>\n",
       "      <th>punto</th>\n",
       "      <th>total_doc</th>\n",
       "      <th>descripcion_larga</th>\n",
       "      <th>importe</th>\n",
       "    </tr>\n",
       "  </thead>\n",
       "  <tbody>\n",
       "    <tr>\n",
       "      <th>121283</th>\n",
       "      <td>60.0</td>\n",
       "      <td>1.9</td>\n",
       "      <td>1.85</td>\n",
       "      <td>2008-01-01</td>\n",
       "      <td>9357</td>\n",
       "      <td>1</td>\n",
       "      <td>V</td>\n",
       "      <td>1</td>\n",
       "      <td>154.5</td>\n",
       "      <td>CATAHUA 60</td>\n",
       "      <td>114.00</td>\n",
       "    </tr>\n",
       "    <tr>\n",
       "      <th>121284</th>\n",
       "      <td>18.4</td>\n",
       "      <td>2.2</td>\n",
       "      <td>1.40</td>\n",
       "      <td>2008-01-01</td>\n",
       "      <td>9357</td>\n",
       "      <td>1</td>\n",
       "      <td>V</td>\n",
       "      <td>1</td>\n",
       "      <td>154.5</td>\n",
       "      <td>CATAHUA 60</td>\n",
       "      <td>40.48</td>\n",
       "    </tr>\n",
       "  </tbody>\n",
       "</table>\n",
       "</div>"
      ],
      "text/plain": [
       "        pies  precio_venta  precio_costo      fecha  numero_doc  estado  \\\n",
       "121283  60.0           1.9          1.85 2008-01-01        9357       1   \n",
       "121284  18.4           2.2          1.40 2008-01-01        9357       1   \n",
       "\n",
       "       motivo  punto  total_doc descripcion_larga  importe  \n",
       "121283      V      1      154.5        CATAHUA 60   114.00  \n",
       "121284      V      1      154.5        CATAHUA 60    40.48  "
      ]
     },
     "execution_count": 55,
     "metadata": {},
     "output_type": "execute_result"
    }
   ],
   "source": [
    "filtro_fecha = df1['fecha'] == '2008-01-01'\n",
    "df_filtrado = df1[filtro_fecha]\n",
    "df_filtrado"
   ]
  },
  {
   "cell_type": "code",
   "execution_count": 57,
   "metadata": {},
   "outputs": [],
   "source": [
    "# Los eliminamos porque el registro inicia el 2011, son datos basura\n",
    "df1 = df1.drop([121283, 121284]).reset_index(drop=True)"
   ]
  },
  {
   "cell_type": "code",
   "execution_count": 61,
   "metadata": {},
   "outputs": [],
   "source": [
    "# Calcular el importe por fecha\n",
    "df_suma_importe = df1.groupby(\"fecha\")[\"importe\"].sum().reset_index()\n",
    "\n",
    "# Crear el gráfico de líneas\n",
    "fig = px.line(df_suma_importe, x=\"fecha\", y=\"importe\", title=\"Evolución de la Suma del Importe\")\n",
    "\n",
    "# Guardar el gráfico en un archivo HTML\n",
    "ruta_grafico = os.path.join(carpeta, \"grafico_importe2.html\")\n",
    "fig.write_html(ruta_grafico)"
   ]
  },
  {
   "cell_type": "code",
   "execution_count": 63,
   "metadata": {},
   "outputs": [
    {
     "data": {
      "image/png": "[encoded data removed]",
      "text/plain": [
       "<Figure size 640x480 with 1 Axes>"
      ]
     },
     "metadata": {},
     "output_type": "display_data"
    }
   ],
   "source": [
    "# Igual que antes XD \n",
    "# Crea el gráfico de líneas\n",
    "plt.plot(df_suma_importe['fecha'], df_suma_importe['importe'])\n",
    "plt.xlabel('Fecha')\n",
    "plt.ylabel('Importe')\n",
    "plt.title('Evolución del las ventas')\n",
    "plt.xticks(rotation=45)\n",
    "plt.show()"
   ]
  },
  {
   "cell_type": "code",
   "execution_count": null,
   "metadata": {},
   "outputs": [],
   "source": []
  }
 ],
 "metadata": {
  "kernelspec": {
   "display_name": "venv",
   "language": "python",
   "name": "python3"
  },
  "language_info": {
   "codemirror_mode": {
    "name": "ipython",
    "version": 3
   },
   "file_extension": ".py",
   "mimetype": "text/x-python",
   "name": "python",
   "nbconvert_exporter": "python",
   "pygments_lexer": "ipython3",
   "version": "3.10.6"
  },
  "orig_nbformat": 4
 },
 "nbformat": 4,
 "nbformat_minor": 2
}
